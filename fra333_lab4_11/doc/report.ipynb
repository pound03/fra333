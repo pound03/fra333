{
 "cells": [
  {
   "attachments": {},
   "cell_type": "markdown",
   "metadata": {},
   "source": [
    "# Lab4\n",
    "## Overview\n",
    "1. นำ Gazebo จาก Lab3 มาปรับแก้ไขให้สามารถควบคุมการเคลื่อนที่ของ joint แบบ Velocity Control ได้\n",
    "2. ทำ Tracker เพื่อ feedback ค่า postion error จาก joint ที่ต้องการควบคุม และคำนวณค่าความเร็วที่ต้องให้กับ joint นั้นๆ\n",
    "\n",
    "## 1. นำ Gazebo จาก Lab3 มาปรับแก้ไขให้สามารถควบคุมการเคลื่อนที่ของ joint แบบ Velocity Control ได้\n",
    "ปรับแก้ config file ให้สามารถควบคุม joint แบบ velocity control ได้ โดยใช้คำสั่ง\n",
    "```xml\n",
    "controller_manager:\n",
    "  ros__parameters:\n",
    "    update_rate: 100\n",
    "\n",
    "    joint_state_broadcaster:\n",
    "      type: joint_state_broadcaster/JointStateBroadcaster\n",
    "    \n",
    "    forward_velocity_controller:\n",
    "      type: velocity_controllers/JointGroupVelocityController\n",
    "\n",
    "forward_velocity_controller:\n",
    "  ros__parameters:\n",
    "    joints:\n",
    "      - joint_1\n",
    "      - joint_2\n",
    "      - joint_3\n",
    "    command_interface:\n",
    "      - velocity\n",
    "    state_interface:\n",
    "      - position\n",
    "      - velocity\n",
    "```\n",
    "\n",
    "## 2. ทำ Tracker เพื่อ feedback ค่า postion error จาก joint ที่ต้องการควบคุม และคำนวณค่าความเร็วที่ต้องให้กับ joint นั้นๆ\n",
    "subcriber จาก topic /joint_states และ /goal จาก topic /goal จะได้ค่า position ของ joint ที่ต้องการควบคุม และค่า position ที่ต้องการให้ได้ จากนั้นจึงคำนวณค่าความเร็วที่ต้องให้กับ joint นั้นๆ โดยใช้คำสั่ง\n",
    "```python\n",
    "    def doPID(self):\n",
    "\n",
    "        for i in range(3):\n",
    "            self.pos_error[i] = self.pos_goal[i] - self.pos_feedback[i]\n",
    "            self.vel_control[i] = self.kp[i]*self.pos_error[i] + self.ki[i]*self.pos_error_sum[i] + self.kd[i]*self.pos_error_diff[i]\n",
    "            self.pos_error_sum[i] += self.pos_error[i]*0.1\n",
    "            self.pos_error_diff[i] = (self.pos_error[i] - self.pos_last_error[i])/0.1\n",
    "            self.pos_last_error[i] = self.pos_error[i]\n",
    "\n",
    "        self.state.data = False\n",
    "        if self.pos_error[0] < 0.1 and self.pos_error[1] < 0.1 and self.pos_error[2] < 0.1:\n",
    "            self.pos_error_sum = [0.0,0.0,0.0]\n",
    "            self.pos_error_diff = [0.0,0.0,0.0]\n",
    "            self.state.data = True\n",
    "        \n",
    "    def goal_callback(self, msg):\n",
    "        self.pos_goal = msg.data\n",
    "\n",
    "    def joint_callback(self, msg):\n",
    "\n",
    "        self.pos_feedback = msg.position[0:3]\n",
    "```\n",
    "\n"
   ]
  }
 ],
 "metadata": {
  "kernelspec": {
   "display_name": "Python 3.8.10 64-bit",
   "language": "python",
   "name": "python3"
  },
  "language_info": {
   "name": "python",
   "version": "3.8.10 (default, Nov 14 2022, 12:59:47) \n[GCC 9.4.0]"
  },
  "orig_nbformat": 4,
  "vscode": {
   "interpreter": {
    "hash": "916dbcbb3f70747c44a77c7bcd40155683ae19c65e1c03b4aa3499c5328201f1"
   }
  }
 },
 "nbformat": 4,
 "nbformat_minor": 2
}
