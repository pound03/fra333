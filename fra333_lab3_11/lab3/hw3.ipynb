{
 "cells": [
  {
   "cell_type": "markdown",
   "metadata": {},
   "source": [
    "<font color='orange' size=8><B>**LAB Assignment 3: Robot Simulation**</B></font>\n",
    "\n",
    "<font size=5><B>Objective :</B></font>\n",
    "\n",
    "1. ศึกษาการจำลองการเคลื่อนที่หุ่นยนต์ผ่านโปรแกรม Simulation (Gazebo)\n",
    "2. ศึกษาการเชื่อมต่อ Sensor กับ ROS2\n",
    "3. ศึกษาการสร้าง Algorithm สำหรับควบคุมตำแหน่งปลายมือของหุ่นยนต์\n"
   ]
  },
  {
   "cell_type": "markdown",
   "metadata": {},
   "source": [
    "<center><img src=\"ros2_control.jpg\" width=\"800\"/></center>"
   ]
  },
  {
   "cell_type": "markdown",
   "metadata": {},
   "source": [
    "<font size=5><B>Lab Instruction :</B></font>\n",
    "\n",
    "นักศึกษาจะต้องออกแบบระบบควบคุมหุ่นยนต์ด้วย ROS2 โดยที่จะต้องเชื่อมต่อระหว่าง IMU กับ ROS2 ด้วย Lib \n",
    "XICRO จากนั้นจึงนำค่าที่ได้มาเป็นสัญญาณขาเข้าของ Algorithm X เพื่อควบคุมตำแหน่งปลายมือของหุ่นยนต์ใน\n",
    "ระบบ Simulation มีขั้นตอนการทำและคะแนนดังต่อไปนี้ ( คะแนน 120/100 )\n",
    "\n",
    "1. การเชื่อมต่อ IMU เข้ากับ Library XICRO (20%)\n",
    "2. ทำโหนด Calibration ของ IMU (20%)     [ เป็นการคำนวณและเพิ่มค่าของ cov เข้าไปยัง message ]\n",
    "3. Algorithm X สำหรับการสั่งงานหุ่นยนต์ (30%)\n",
    "4. การนำไฟล์ URDF/XACRO ไปยังโปรแกรม GAZEBO (20%)\n",
    "5. การติดตั้ง ROS2_CONTROLLER ไปยัง GAZEBO (20%)\n",
    "6. การออกแบบโครงสร้าง Package ใน ROS2 (10%)"
   ]
  }
 ],
 "metadata": {
  "kernelspec": {
   "display_name": "Python 3.8.10 64-bit",
   "language": "python",
   "name": "python3"
  },
  "language_info": {
   "codemirror_mode": {
    "name": "ipython",
    "version": 3
   },
   "file_extension": ".py",
   "mimetype": "text/x-python",
   "name": "python",
   "nbconvert_exporter": "python",
   "pygments_lexer": "ipython3",
   "version": "3.8.10"
  },
  "orig_nbformat": 4,
  "vscode": {
   "interpreter": {
    "hash": "916dbcbb3f70747c44a77c7bcd40155683ae19c65e1c03b4aa3499c5328201f1"
   }
  }
 },
 "nbformat": 4,
 "nbformat_minor": 2
}
