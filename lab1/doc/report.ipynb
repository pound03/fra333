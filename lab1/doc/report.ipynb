{
 "cells": [
  {
   "cell_type": "markdown",
   "metadata": {},
   "source": [
    "# __Report Lab1__\n",
    "---\n",
    ">## __Overview :__\n",
    ">วัตถุประสงค์คือออกแบบระบบโดยใช้ ROS2 สำหรับสร้างระบบ Random Walk ที่มีสัญญาณรบกวนที่เป็นรูปแบบ Random Noise ที่มีการกระจายตัวแบบ Gaussian Distribution \n",
    ">(การกระจายตัวนี้จะประกอบไปด้วยค่า mean และ variance) โดยการใช้ turtlesim ในการแสดงผลของระบบ โดยที่จะต้องมี service สำหรับการกำหนดค่า mean และ variance ของรูปแบบ Gaussian Distribution และ มีการสร้าง launch file สำหรับการรันโปรแกรมทั้งหมด และจะต้องมี node สำหรับสร้าง Noise 2 node โดยมีการแยก namespace และ node สำหรับการรวมสัญญาณไปให้กับ turtlesim และแสดงผลออกมาในรูปแบบของการเคลื่อนที่ของตัวเต่า\n",
    ">\n",
    ">เราทำได้แบ่งออกเป็น 4 ส่วน คือ\n",
    "\n"
   ]
  },
  {
   "cell_type": "markdown",
   "metadata": {},
   "source": [
    "<p align=\"center\">\n",
    "<img src=\"pic1.png\" width=\"90%\">\n",
    "</p>\n",
    "\n",
    "<p align=\"center\">\n",
    "ภาพที่ 1 ภาพรวมของระบบ\n",
    "</p>"
   ]
  },
  {
   "cell_type": "markdown",
   "metadata": {},
   "source": [
    ">## Lab1 Interface :\n",
    ">### overview :\n",
    ">>    เราต้องการสร้าง data type service ที่มีการส่งค่า mean และ variance มาจาก client และ return empty กลับไปยัง client โดยที่เราแยก pkg ออกมาสำหรับการสร้าง data type และ service นี้ โดยเฉพาะ \n",
    ">>\n",
    ">> โดย pkg นี้จะมีไฟล์ SetNoise.srv ที่เป็นชื่อ data type service และไฟล์ Cmake ที่มีการใส่ code ในการเจน date type นี้\n",
    ">### srv file :\n",
    ">>File : \"lab1_interfaces/srv/SetNoise.srv\"\n",
    ">>```\n",
    ">>float64 mean\n",
    ">>float64 variance\n",
    ">>--- \n",
    ">>```\n",
    ">\n",
    ">\n",
    ">### cmakelist :\n",
    ">เพื่อที่จะสามารถ Build package ได้เราจึงแก้ไขไฟล์ CMakeLists.txt\n",
    ">>File : \"lab1_interfaces/CMakeLists.txt\"\n",
    ">>```cmake\n",
    ">>rosidl_generate_interfaces(${PROJECT_NAME}\n",
    ">>  \"srv/SetNoise.srv\"\n",
    ">>  DEPENDENCIES std_msgs\n",
    ">>)\n",
    ">>```"
   ]
  },
  {
   "cell_type": "markdown",
   "metadata": {},
   "source": [
    ">## Noise Generator :\n",
    ">### overview :\n",
    ">\n",
    ">> &nbsp;&nbsp;&nbsp;&nbsp;&nbsp;&nbsp;&nbsp;&nbsp;เป็น Script ที่สร้างขึ้นเพื่อการสร้าง สัญญาณและnoise สำหรับการเคลื่อนที่ในแนวเชิงเส้น และการเคลื่อนที่ในเชิงมุม \n",
    ">>- __ซึ่งประกอบไปด้วย service__ ที่จะต้องรับค่า Mean และ Variance มาจาก Client โดยที่เรากำหนดใช้เป็น console ในการรส่งค่า\n",
    ">>- __โดยเราต้องการ 2 Node__ ที่สร้าง Noise ออกมา เราจึงเลือกใช้ __namespace__ เพื่อเป็นการกำหนด ให้แต่ล่ะ Node มี topic ต่างๆแยกกัน เราใช้ namespace เป็น linear และ angular\n",
    ">>- เมื่อรับค่าของ Mean และ Variance มาแล้วจึงนำค่าไปใส่ใน ในตัวแปร self.mean , self.variance เพื่อสำหรับการ generate ค่าความแปรปรวน ผ่าน library numpy มาเพื่อใช้ฟังชันน์ที่มีอยู่ในนั้นและทำการส่งค่า __(จะอยู่ใน code noise_generator.py line 23-25 _(crate object)_ , 39-44 _(funtion callback)_)__ \n",
    ">>- และทำการ publish ค่า noise ที่ได้ไปที่ topic __set_noise__ ผ่าน timer ที่เราสร้างขึ้น __(จะอยู่ใน code noise_generator.py line 28-33 _(crate object)_ , 46-50 _(funtion callback)_)__ "
   ]
  },
  {
   "cell_type": "markdown",
   "metadata": {},
   "source": [
    ">## Velocity Mux :\n",
    ">### overview :\n",
    ">>    &nbsp;&nbsp;&nbsp;&nbsp;&nbsp;&nbsp;&nbsp;&nbsp;เป็น Node ที่สร้างขึ้นมาเพื่อที่จะรวมสัญญาณ ความเร็วเชิงเส้นและความเร็วเชิงมุม  และทำการ publish ออกไปให้ turtlesim\n",
    ">>\n",
    ">>- มีการ sub 2 topic คือ /linear/noise (ซึ่งส่งค่าความแปรปรวนในการเคลื่อนที่ในเชิงเส้นมา) และ /angular/noise  (ค่าความแปรปรวนในการเคลื่อนที่เชิงมุม) และทำการนำมาเก็บค่าเข้ามาใน class __(จะอยู่ใน code velocity_controller.py line 30-35 _(crate object)_ , 41-51 _(funtion callback)_)__ \n",
    ">>\n",
    ">>- มีการ publish ข้อมูลผ่าน topic /turtle1/cmd_vel โดยที่มี data type เป็นแบบ Twist โดยอาศัย timer ในการส่งข้อมูลออกไป โดยจะส่งข้อมูลออกไป ็x Hz โดยที่ x มีค่าตามที่เราใส่ argment มาให้ หรือจะมีค่า 5.0 Hz หากไม่มีการใส่ __(จะอยู่ใน code velocity_controller.py line 14-19 _(define rate)_ , 24 _(create timer)_ , 34-36 _(create object pulish)_ , 53-60 _(callback_funtion)_)__ \n",
    "\n",
    "\n",
    ">## cmakelist : เพิ่ม script ที่เราใช้ไปใน cmakelist\n",
    ">>File : \"fra333_lab1_11/CMakeLists.txt\"\n",
    ">>```cmake\n",
    ">>install(PROGRAMS\n",
    ">>  scripts/noise_generator.py\n",
    ">>  scripts/velocity_mux.py\n",
    ">>  DESTINATION lib/${PROJECT_NAME}\n",
    ">>)\n",
    ">>```"
   ]
  },
  {
   "cell_type": "markdown",
   "metadata": {},
   "source": [
    ">## Launch File :\n",
    ">### overview :\n",
    ">> &nbsp;&nbsp;&nbsp;&nbsp;&nbsp;&nbsp;&nbsp;&nbsp;launch File คือ Script ที่ใช้ในการ run node หลายๆอันพร้อมๆกันในคราวเดียว ซึ่งประกอบไปด้วย สร้าง รัน noise_generator 2 ตัวที่มี namespace ต่างกัน , รัน turtlesim node , รัน velocity_mux , ส่งค่า argment ที่ัรบมาจากterminal ให้กับ noise_generator และ velocity_mux ,  สั่งคำสั่งผ่าน terimal ในการเรียก service ให้ noise_generator ส่งเป็น mean , variance \n",
    ">>  - สร้าง รัน noise_generator 2 ตัวที่มี namespace ต่างกัน __(จะอยู่ใน code random_walk.launch.py line 21-36)__ \n",
    ">>  - รัน turtlesim node __(จะอยู่ใน code random_walk.launch.py line 12-16)__\n",
    ">>  - รัน velocity_mux __(จะอยู่ใน code random_walk.launch.py line 39-52)__\n",
    ">>  - ส่งค่า argment ที่ัรับมาจากterminal ให้กับ noise_generator และ velocity_mux __(จะอยู่ใน code random_walk.launch.py line 18-20, 26,34,42)__\n",
    ">>  - สั่งคำสั่งผ่าน terimal ในการเรียก service ให้ noise_generator ส่งเป็น mean , variance __(จะอยู่ใน code random_walk.launch.py line 47-62)__\n",
    ">### cmakelist :\n",
    ">>File : \"fra333_lab1_11/CMakeLists.txt\"\n",
    ">>```cmake\n",
    ">>install(DIRECTORY\n",
    ">>  launch\n",
    ">>  DESTINATION share/${PROJECT_NAME})\n",
    ">>```"
   ]
  },
  {
   "cell_type": "markdown",
   "metadata": {},
   "source": [
    ">## reuslt :\n",
    "\n",
    "<p align=\"center\">\n",
    "<img src=\"result.png\" width=\"90%\">\n",
    "</p>\n",
    "<p align=\"center\">\n",
    "ภาพที่ 2 ผลลัพธ์การทำงาน\n",
    "</p>\n",
    "<p align=\"center\">\n",
    "<img src=\"rqt_graph.png\" width=\"90%\">\n",
    "</p>\n",
    "<p align=\"center\">\n",
    "ภาพที่ 3 rqt_graph\n",
    "</p>\n"
   ]
  },
  {
   "cell_type": "markdown",
   "metadata": {},
   "source": []
  }
 ],
 "metadata": {
  "kernelspec": {
   "display_name": "Python 3.8.10 64-bit",
   "language": "python",
   "name": "python3"
  },
  "language_info": {
   "codemirror_mode": {
    "name": "ipython",
    "version": 3
   },
   "file_extension": ".py",
   "mimetype": "text/x-python",
   "name": "python",
   "nbconvert_exporter": "python",
   "pygments_lexer": "ipython3",
   "version": "3.8.10"
  },
  "orig_nbformat": 4,
  "vscode": {
   "interpreter": {
    "hash": "916dbcbb3f70747c44a77c7bcd40155683ae19c65e1c03b4aa3499c5328201f1"
   }
  }
 },
 "nbformat": 4,
 "nbformat_minor": 2
}
